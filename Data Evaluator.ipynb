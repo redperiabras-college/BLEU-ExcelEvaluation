{
 "cells": [
  {
   "cell_type": "code",
   "execution_count": 1,
   "metadata": {},
   "outputs": [],
   "source": [
    "import os\n",
    "\n",
    "from nltk.tokenize.moses import MosesTokenizer, MosesDetokenizer\n",
    "from nltk.translate.bleu_score import (sentence_bleu, modified_precision,\n",
    "    closest_ref_length)\n",
    "from fractions import Fraction\n",
    "from collections import Counter\n",
    "\n",
    "from openpyxl import load_workbook\n",
    "\n",
    "tokenizer, detokenizer = MosesTokenizer(), MosesDetokenizer()"
   ]
  },
  {
   "cell_type": "code",
   "execution_count": 2,
   "metadata": {},
   "outputs": [],
   "source": [
    "def readfile(file_loc):\n",
    "    data = open(file_loc).readlines()\n",
    "    return [tokenizer.tokenize(datum) for datum in data]"
   ]
  },
  {
   "cell_type": "code",
   "execution_count": 3,
   "metadata": {},
   "outputs": [],
   "source": [
    "wb = load_workbook('BLEU Template.xlsm', keep_vba=True)\n",
    "sheet = wb[wb.sheetnames[0]]"
   ]
  },
  {
   "cell_type": "code",
   "execution_count": 4,
   "metadata": {},
   "outputs": [
    {
     "name": "stderr",
     "output_type": "stream",
     "text": [
      "/mnt/c/ubuntu-bash/BLEU-Evaluation-Tool/venv/lib/python3.5/site-packages/nltk/translate/bleu_score.py:490: UserWarning: \n",
      "Corpus/Sentence contains 0 counts of 3-gram overlaps.\n",
      "BLEU scores might be undesirable; use SmoothingFunction().\n",
      "  warnings.warn(_msg)\n",
      "/mnt/c/ubuntu-bash/BLEU-Evaluation-Tool/venv/lib/python3.5/site-packages/nltk/translate/bleu_score.py:490: UserWarning: \n",
      "Corpus/Sentence contains 0 counts of 2-gram overlaps.\n",
      "BLEU scores might be undesirable; use SmoothingFunction().\n",
      "  warnings.warn(_msg)\n",
      "/mnt/c/ubuntu-bash/BLEU-Evaluation-Tool/venv/lib/python3.5/site-packages/nltk/translate/bleu_score.py:490: UserWarning: \n",
      "Corpus/Sentence contains 0 counts of 4-gram overlaps.\n",
      "BLEU scores might be undesirable; use SmoothingFunction().\n",
      "  warnings.warn(_msg)\n"
     ]
    }
   ],
   "source": [
    "sources = readfile('data/sources.data')\n",
    "references = readfile('data/references.data')\n",
    "hypotheses = readfile('data/hypotheses.data')\n",
    "\n",
    "results = []\n",
    "\n",
    "for source, reference, hypothesis in zip(sources, references, hypotheses):\n",
    "    set_summary = []\n",
    "    \n",
    "    set_summary.append(detokenizer.detokenize(source, return_str=True))\n",
    "    set_summary.append(detokenizer.detokenize(reference, return_str=True))\n",
    "    set_summary.append(detokenizer.detokenize(hypothesis, return_str=True))\n",
    "    \n",
    "    hyp_len = len(hypothesis)\n",
    "    ref_len = closest_ref_length([reference], hyp_len)\n",
    "                                 \n",
    "    set_summary.append(ref_len)\n",
    "    set_summary.append(hyp_len)\n",
    "    \n",
    "    for i, _ in enumerate((0.25, 0.25, 0.25, 0.25), start=1):\n",
    "        p_i = modified_precision([reference], hypothesis, i)\n",
    "        set_summary.append(p_i.numerator)\n",
    "        set_summary.append(p_i.denominator)\n",
    "\n",
    "    set_summary.append(sentence_bleu([reference], hypothesis))\n",
    "    results.append(set_summary)"
   ]
  },
  {
   "cell_type": "code",
   "execution_count": 5,
   "metadata": {},
   "outputs": [],
   "source": [
    "for x in range(3, 3 + len(results)):\n",
    "    for y in range(1, 15):\n",
    "        sheet.cell(row=x, column=y).value = results[x - 3][y - 1] "
   ]
  },
  {
   "cell_type": "code",
   "execution_count": 6,
   "metadata": {},
   "outputs": [
    {
     "ename": "AttributeError",
     "evalue": "module 'os' has no attribute 'startfile'",
     "output_type": "error",
     "traceback": [
      "\u001b[0;31m---------------------------------------------------------------------------\u001b[0m",
      "\u001b[0;31mAttributeError\u001b[0m                            Traceback (most recent call last)",
      "\u001b[0;32m<ipython-input-6-a8e696e5ba6b>\u001b[0m in \u001b[0;36m<module>\u001b[0;34m()\u001b[0m\n\u001b[1;32m      2\u001b[0m \u001b[0;34m\u001b[0m\u001b[0m\n\u001b[1;32m      3\u001b[0m \u001b[0mwb\u001b[0m\u001b[0;34m.\u001b[0m\u001b[0msave\u001b[0m\u001b[0;34m(\u001b[0m\u001b[0moutput_file\u001b[0m\u001b[0;34m)\u001b[0m\u001b[0;34m\u001b[0m\u001b[0m\n\u001b[0;32m----> 4\u001b[0;31m \u001b[0mos\u001b[0m\u001b[0;34m.\u001b[0m\u001b[0mstartfile\u001b[0m\u001b[0;34m(\u001b[0m\u001b[0mpath\u001b[0m\u001b[0;34m,\u001b[0m \u001b[0;34m'open'\u001b[0m\u001b[0;34m)\u001b[0m\u001b[0;34m\u001b[0m\u001b[0m\n\u001b[0m",
      "\u001b[0;31mAttributeError\u001b[0m: module 'os' has no attribute 'startfile'"
     ]
    }
   ],
   "source": [
    "output_file = 'Evaluation Output.xlsm'\n",
    "\n",
    "wb.save(output_file)\n",
    "os.startfile(path, 'open')"
   ]
  }
 ],
 "metadata": {
  "kernelspec": {
   "display_name": "Python 3",
   "language": "python",
   "name": "python3"
  },
  "language_info": {
   "codemirror_mode": {
    "name": "ipython",
    "version": 3
   },
   "file_extension": ".py",
   "mimetype": "text/x-python",
   "name": "python",
   "nbconvert_exporter": "python",
   "pygments_lexer": "ipython3",
   "version": "3.5.2"
  }
 },
 "nbformat": 4,
 "nbformat_minor": 2
}
