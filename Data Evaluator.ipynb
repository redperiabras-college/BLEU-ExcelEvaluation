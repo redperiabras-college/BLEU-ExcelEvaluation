{
 "cells": [
  {
   "cell_type": "code",
   "execution_count": null,
   "metadata": {},
   "outputs": [],
   "source": [
    "import os\n",
    "\n",
    "from nltk.tokenize.moses import MosesTokenizer, MosesDetokenizer\n",
    "from nltk.translate.bleu_score import (sentence_bleu, modified_precision,\n",
    "    closest_ref_length)\n",
    "from fractions import Fraction\n",
    "from collections import Counter\n",
    "\n",
    "from openpyxl import load_workbook\n",
    "\n",
    "tokenizer, detokenizer = MosesTokenizer(), MosesDetokenizer()"
   ]
  },
  {
   "cell_type": "code",
   "execution_count": null,
   "metadata": {},
   "outputs": [],
   "source": [
    "def readfile(file_loc):\n",
    "    data = open(file_loc).readlines()\n",
    "    return [tokenizer.tokenize(datum) for datum in data]"
   ]
  },
  {
   "cell_type": "code",
   "execution_count": null,
   "metadata": {},
   "outputs": [],
   "source": [
    "wb = load_workbook('BLEU Template.xlsm', keep_vba=True)\n",
    "sheet = wb[wb.sheetnames[0]]"
   ]
  },
  {
   "cell_type": "code",
   "execution_count": null,
   "metadata": {},
   "outputs": [],
   "source": [
    "sources = readfile('data/sources.data')\n",
    "references = readfile('data/references.data')\n",
    "hypotheses = readfile('data/hypotheses.data')\n",
    "\n",
    "results = []\n",
    "\n",
    "for source, reference, hypothesis in zip(sources, references, hypotheses):\n",
    "    set_summary = []\n",
    "    \n",
    "    set_summary.append(detokenizer.detokenize(source, return_str=True))\n",
    "    set_summary.append(detokenizer.detokenize(reference, return_str=True))\n",
    "    set_summary.append(detokenizer.detokenize(hypothesis, return_str=True))\n",
    "    \n",
    "    hyp_len = len(hypothesis)\n",
    "    ref_len = closest_ref_length([reference], hyp_len)\n",
    "                                 \n",
    "    set_summary.append(ref_len)\n",
    "    set_summary.append(hyp_len)\n",
    "    \n",
    "    for i, _ in enumerate((0.25, 0.25, 0.25, 0.25), start=1):\n",
    "        p_i = modified_precision([reference], hypothesis, i)\n",
    "        set_summary.append(p_i.numerator)\n",
    "        set_summary.append(p_i.denominator)\n",
    "\n",
    "    set_summary.append(sentence_bleu([reference], hypothesis))\n",
    "    results.append(set_summary)"
   ]
  },
  {
   "cell_type": "code",
   "execution_count": null,
   "metadata": {},
   "outputs": [],
   "source": [
    "for x in range(3, 3 + len(results)):\n",
    "    for y in range(1, 15):\n",
    "        sheet.cell(row=x, column=y).value = results[x - 3][y - 1] "
   ]
  },
  {
   "cell_type": "code",
   "execution_count": null,
   "metadata": {},
   "outputs": [],
   "source": [
    "output_file = 'Evaluation Output.xlsm'\n",
    "\n",
    "wb.save(output_file)"
   ]
  }
 ],
 "metadata": {
  "kernelspec": {
   "display_name": "Python 3",
   "language": "python",
   "name": "python3"
  },
  "language_info": {
   "codemirror_mode": {
    "name": "ipython",
    "version": 3
   },
   "file_extension": ".py",
   "mimetype": "text/x-python",
   "name": "python",
   "nbconvert_exporter": "python",
   "pygments_lexer": "ipython3",
   "version": "3.5.2"
  }
 },
 "nbformat": 4,
 "nbformat_minor": 2
}
